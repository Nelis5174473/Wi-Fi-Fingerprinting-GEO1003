{
 "cells": [
  {
   "cell_type": "markdown",
   "id": "47e5567c",
   "metadata": {},
   "source": [
    "# GEO1003 ~ Wi-Fi Fingerprinting"
   ]
  },
  {
   "cell_type": "markdown",
   "id": "e8f43cd3",
   "metadata": {},
   "source": [
    "December 2023\n",
    "\n",
    "Work by Tom Barbian (5100704), Der Derian Auliyaa Bainus (5941342), Corné Snoeij (5174473), Javier Martínez (6055613)"
   ]
  },
  {
   "cell_type": "markdown",
   "id": "4283cfd4",
   "metadata": {},
   "source": [
    "### Importing libraries"
   ]
  },
  {
   "cell_type": "code",
   "execution_count": 4,
   "id": "1ac49b44",
   "metadata": {
    "ExecuteTime": {
     "end_time": "2023-12-15T08:39:30.899075Z",
     "start_time": "2023-12-15T08:39:30.893503Z"
    }
   },
   "outputs": [],
   "source": [
    "import pandas as pd\n",
    "import numpy as np\n",
    "import os"
   ]
  },
  {
   "cell_type": "markdown",
   "id": "abe7611b",
   "metadata": {},
   "source": [
    "### Loading the data"
   ]
  },
  {
   "cell_type": "code",
   "execution_count": 11,
   "outputs": [
    {
     "data": {
      "text/plain": "['Ketelhuis side room.txt',\n 'Serre 2023-12-08 10-53-11.txt',\n 'Hall H 2023-12-11 12-51-23 .txt',\n 'HALL D.txt',\n 'entrance west.txt',\n 'HALL R.txt',\n 'BG+ half-floor.txt',\n 'BK library 2023-12-11-13-41.txt',\n 'Geolab 2023-12-08 09-11-59.txt',\n 'Stairway (near Hall U) 2023-12-12 12-59-18.txt',\n 'V 2023-12-08 09-42-29.txt',\n 'management stairs.txt',\n 'Hall Z 2023-12-12 13-22-50.txt',\n 'Msc 2023-12-08 10-14-01.txt',\n 'Hall K 2023-12-12 12-32-57.txt',\n 'vrlab.txt']"
     },
     "execution_count": 11,
     "metadata": {},
     "output_type": "execute_result"
    }
   ],
   "source": [
    "# load the files within folder /data/fingerprints into a list\n",
    "path = os.getcwd() + '/data/fingerprints'\n",
    "files = os.listdir(path)\n",
    "files"
   ],
   "metadata": {
    "collapsed": false,
    "ExecuteTime": {
     "end_time": "2023-12-15T08:44:56.882985Z",
     "start_time": "2023-12-15T08:44:56.872343Z"
    }
   }
  },
  {
   "cell_type": "code",
   "execution_count": 20,
   "id": "cf4b259b",
   "metadata": {
    "ExecuteTime": {
     "end_time": "2023-12-15T08:47:00.198664Z",
     "start_time": "2023-12-15T08:46:59.819142Z"
    }
   },
   "outputs": [],
   "source": [
    "# load the files into a list of dataframes\n",
    "df_dict = {}\n",
    "\n",
    "for file in files:\n",
    "    df_dict[file] = pd.read_csv(path + '/' + file, sep='\\t', header=0)"
   ]
  },
  {
   "cell_type": "code",
   "execution_count": 21,
   "outputs": [
    {
     "data": {
      "text/plain": "       12/13/2023 3:54:32 PM        MAC Address  \\\n0      12/13/2023 3:54:33 PM  1C:28:AF:66:4C:D1   \n1      12/13/2023 3:54:33 PM  1C:28:AF:66:4C:D0   \n2      12/13/2023 3:54:33 PM  D0:4D:C6:F2:9D:F2   \n3      12/13/2023 3:54:33 PM  D0:4D:C6:F2:61:21   \n4      12/13/2023 3:54:33 PM  1C:28:AF:66:2A:B1   \n...                      ...                ...   \n14475  12/13/2023 4:09:46 PM  1C:28:AF:62:01:C1   \n14476  12/13/2023 4:09:46 PM  6C:B7:49:E9:C9:A9   \n14477  12/13/2023 4:09:46 PM  1C:28:AF:66:11:D2   \n14478  12/13/2023 4:09:46 PM  D0:4D:C6:F2:61:31   \n14479  12/13/2023 4:09:46 PM  D0:4D:C6:F2:EC:90   \n\n                                            Vendor            SSID  \\\n0                                              NaN  tudelft-dastud   \n1                                              NaN         eduroam   \n2                                              NaN    TUD-facility   \n3                                              NaN  tudelft-dastud   \n4                                              NaN  tudelft-dastud   \n...                                            ...             ...   \n14475  Aruba, a Hewlett Packard Enterprise Company  tudelft-dastud   \n14476                  HUAWEI TECHNOLOGIES CO.,LTD        Honor 7X   \n14477  Aruba, a Hewlett Packard Enterprise Company    TUD-facility   \n14478  Aruba, a Hewlett Packard Enterprise Company  tudelft-dastud   \n14479  Aruba, a Hewlett Packard Enterprise Company         eduroam   \n\n       Access Point Name Connected AP  Signal Strength  Quality  \\\n0                    NaN          NaN              -83       31   \n1                    NaN          NaN              -84       29   \n2                    NaN          NaN              -80       38   \n3                    NaN          NaN              -56       85   \n4                    NaN          NaN              -85       26   \n...                  ...          ...              ...      ...   \n14475                NaN          NaN              -73       60   \n14476                NaN          NaN              -68       72   \n14477                NaN          NaN              -87       22   \n14478                NaN          NaN              -59       83   \n14479                NaN          NaN              -69       70   \n\n       Station Count           Frequency  Position  \\\n0                0.0  Ch 165 [5.825 GHz]       NaN   \n1                2.0  Ch 165 [5.825 GHz]       NaN   \n2                0.0  Ch 108 [5.540 GHz]       NaN   \n3                0.0    Ch 6 [2.437 GHz]       NaN   \n4                0.0  Ch 149 [5.745 GHz]       NaN   \n...              ...                 ...       ...   \n14475            0.0    Ch 1 [2.412 GHz]       NaN   \n14476            1.0    Ch 1 [2.412 GHz]       NaN   \n14477            0.0  Ch 157 [5.785 GHz]       NaN   \n14478            0.0  Ch 136 [5.680 GHz]       NaN   \n14479           17.0  Ch 104 [5.520 GHz]       NaN   \n\n                                      Info  \\\n0       0 Stations, 1% Channel Utilization   \n1       2 Stations, 1% Channel Utilization   \n2      0 Stations, 69% Channel Utilization   \n3      0 Stations, 34% Channel Utilization   \n4       0 Stations, 4% Channel Utilization   \n...                                    ...   \n14475  0 Stations, 24% Channel Utilization   \n14476    1 Station, 0% Channel Utilization   \n14477   0 Stations, 1% Channel Utilization   \n14478   0 Stations, 6% Channel Utilization   \n14479  17 Stations, 9% Channel Utilization   \n\n                                        Adapter  \n0      Wi-Fi [Intel(R) Wireless-AC 9560 160MHz]  \n1      Wi-Fi [Intel(R) Wireless-AC 9560 160MHz]  \n2      Wi-Fi [Intel(R) Wireless-AC 9560 160MHz]  \n3      Wi-Fi [Intel(R) Wireless-AC 9560 160MHz]  \n4      Wi-Fi [Intel(R) Wireless-AC 9560 160MHz]  \n...                                         ...  \n14475  Wi-Fi [Intel(R) Wireless-AC 9560 160MHz]  \n14476  Wi-Fi [Intel(R) Wireless-AC 9560 160MHz]  \n14477  Wi-Fi [Intel(R) Wireless-AC 9560 160MHz]  \n14478  Wi-Fi [Intel(R) Wireless-AC 9560 160MHz]  \n14479  Wi-Fi [Intel(R) Wireless-AC 9560 160MHz]  \n\n[14480 rows x 13 columns]",
      "text/html": "<div>\n<style scoped>\n    .dataframe tbody tr th:only-of-type {\n        vertical-align: middle;\n    }\n\n    .dataframe tbody tr th {\n        vertical-align: top;\n    }\n\n    .dataframe thead th {\n        text-align: right;\n    }\n</style>\n<table border=\"1\" class=\"dataframe\">\n  <thead>\n    <tr style=\"text-align: right;\">\n      <th></th>\n      <th>12/13/2023 3:54:32 PM</th>\n      <th>MAC Address</th>\n      <th>Vendor</th>\n      <th>SSID</th>\n      <th>Access Point Name</th>\n      <th>Connected AP</th>\n      <th>Signal Strength</th>\n      <th>Quality</th>\n      <th>Station Count</th>\n      <th>Frequency</th>\n      <th>Position</th>\n      <th>Info</th>\n      <th>Adapter</th>\n    </tr>\n  </thead>\n  <tbody>\n    <tr>\n      <th>0</th>\n      <td>12/13/2023 3:54:33 PM</td>\n      <td>1C:28:AF:66:4C:D1</td>\n      <td>NaN</td>\n      <td>tudelft-dastud</td>\n      <td>NaN</td>\n      <td>NaN</td>\n      <td>-83</td>\n      <td>31</td>\n      <td>0.0</td>\n      <td>Ch 165 [5.825 GHz]</td>\n      <td>NaN</td>\n      <td>0 Stations, 1% Channel Utilization</td>\n      <td>Wi-Fi [Intel(R) Wireless-AC 9560 160MHz]</td>\n    </tr>\n    <tr>\n      <th>1</th>\n      <td>12/13/2023 3:54:33 PM</td>\n      <td>1C:28:AF:66:4C:D0</td>\n      <td>NaN</td>\n      <td>eduroam</td>\n      <td>NaN</td>\n      <td>NaN</td>\n      <td>-84</td>\n      <td>29</td>\n      <td>2.0</td>\n      <td>Ch 165 [5.825 GHz]</td>\n      <td>NaN</td>\n      <td>2 Stations, 1% Channel Utilization</td>\n      <td>Wi-Fi [Intel(R) Wireless-AC 9560 160MHz]</td>\n    </tr>\n    <tr>\n      <th>2</th>\n      <td>12/13/2023 3:54:33 PM</td>\n      <td>D0:4D:C6:F2:9D:F2</td>\n      <td>NaN</td>\n      <td>TUD-facility</td>\n      <td>NaN</td>\n      <td>NaN</td>\n      <td>-80</td>\n      <td>38</td>\n      <td>0.0</td>\n      <td>Ch 108 [5.540 GHz]</td>\n      <td>NaN</td>\n      <td>0 Stations, 69% Channel Utilization</td>\n      <td>Wi-Fi [Intel(R) Wireless-AC 9560 160MHz]</td>\n    </tr>\n    <tr>\n      <th>3</th>\n      <td>12/13/2023 3:54:33 PM</td>\n      <td>D0:4D:C6:F2:61:21</td>\n      <td>NaN</td>\n      <td>tudelft-dastud</td>\n      <td>NaN</td>\n      <td>NaN</td>\n      <td>-56</td>\n      <td>85</td>\n      <td>0.0</td>\n      <td>Ch 6 [2.437 GHz]</td>\n      <td>NaN</td>\n      <td>0 Stations, 34% Channel Utilization</td>\n      <td>Wi-Fi [Intel(R) Wireless-AC 9560 160MHz]</td>\n    </tr>\n    <tr>\n      <th>4</th>\n      <td>12/13/2023 3:54:33 PM</td>\n      <td>1C:28:AF:66:2A:B1</td>\n      <td>NaN</td>\n      <td>tudelft-dastud</td>\n      <td>NaN</td>\n      <td>NaN</td>\n      <td>-85</td>\n      <td>26</td>\n      <td>0.0</td>\n      <td>Ch 149 [5.745 GHz]</td>\n      <td>NaN</td>\n      <td>0 Stations, 4% Channel Utilization</td>\n      <td>Wi-Fi [Intel(R) Wireless-AC 9560 160MHz]</td>\n    </tr>\n    <tr>\n      <th>...</th>\n      <td>...</td>\n      <td>...</td>\n      <td>...</td>\n      <td>...</td>\n      <td>...</td>\n      <td>...</td>\n      <td>...</td>\n      <td>...</td>\n      <td>...</td>\n      <td>...</td>\n      <td>...</td>\n      <td>...</td>\n      <td>...</td>\n    </tr>\n    <tr>\n      <th>14475</th>\n      <td>12/13/2023 4:09:46 PM</td>\n      <td>1C:28:AF:62:01:C1</td>\n      <td>Aruba, a Hewlett Packard Enterprise Company</td>\n      <td>tudelft-dastud</td>\n      <td>NaN</td>\n      <td>NaN</td>\n      <td>-73</td>\n      <td>60</td>\n      <td>0.0</td>\n      <td>Ch 1 [2.412 GHz]</td>\n      <td>NaN</td>\n      <td>0 Stations, 24% Channel Utilization</td>\n      <td>Wi-Fi [Intel(R) Wireless-AC 9560 160MHz]</td>\n    </tr>\n    <tr>\n      <th>14476</th>\n      <td>12/13/2023 4:09:46 PM</td>\n      <td>6C:B7:49:E9:C9:A9</td>\n      <td>HUAWEI TECHNOLOGIES CO.,LTD</td>\n      <td>Honor 7X</td>\n      <td>NaN</td>\n      <td>NaN</td>\n      <td>-68</td>\n      <td>72</td>\n      <td>1.0</td>\n      <td>Ch 1 [2.412 GHz]</td>\n      <td>NaN</td>\n      <td>1 Station, 0% Channel Utilization</td>\n      <td>Wi-Fi [Intel(R) Wireless-AC 9560 160MHz]</td>\n    </tr>\n    <tr>\n      <th>14477</th>\n      <td>12/13/2023 4:09:46 PM</td>\n      <td>1C:28:AF:66:11:D2</td>\n      <td>Aruba, a Hewlett Packard Enterprise Company</td>\n      <td>TUD-facility</td>\n      <td>NaN</td>\n      <td>NaN</td>\n      <td>-87</td>\n      <td>22</td>\n      <td>0.0</td>\n      <td>Ch 157 [5.785 GHz]</td>\n      <td>NaN</td>\n      <td>0 Stations, 1% Channel Utilization</td>\n      <td>Wi-Fi [Intel(R) Wireless-AC 9560 160MHz]</td>\n    </tr>\n    <tr>\n      <th>14478</th>\n      <td>12/13/2023 4:09:46 PM</td>\n      <td>D0:4D:C6:F2:61:31</td>\n      <td>Aruba, a Hewlett Packard Enterprise Company</td>\n      <td>tudelft-dastud</td>\n      <td>NaN</td>\n      <td>NaN</td>\n      <td>-59</td>\n      <td>83</td>\n      <td>0.0</td>\n      <td>Ch 136 [5.680 GHz]</td>\n      <td>NaN</td>\n      <td>0 Stations, 6% Channel Utilization</td>\n      <td>Wi-Fi [Intel(R) Wireless-AC 9560 160MHz]</td>\n    </tr>\n    <tr>\n      <th>14479</th>\n      <td>12/13/2023 4:09:46 PM</td>\n      <td>D0:4D:C6:F2:EC:90</td>\n      <td>Aruba, a Hewlett Packard Enterprise Company</td>\n      <td>eduroam</td>\n      <td>NaN</td>\n      <td>NaN</td>\n      <td>-69</td>\n      <td>70</td>\n      <td>17.0</td>\n      <td>Ch 104 [5.520 GHz]</td>\n      <td>NaN</td>\n      <td>17 Stations, 9% Channel Utilization</td>\n      <td>Wi-Fi [Intel(R) Wireless-AC 9560 160MHz]</td>\n    </tr>\n  </tbody>\n</table>\n<p>14480 rows × 13 columns</p>\n</div>"
     },
     "execution_count": 21,
     "metadata": {},
     "output_type": "execute_result"
    }
   ],
   "source": [
    "df_dict[\"BG+ half-floor.txt\"]"
   ],
   "metadata": {
    "collapsed": false,
    "ExecuteTime": {
     "end_time": "2023-12-15T08:47:01.112084Z",
     "start_time": "2023-12-15T08:47:01.094748Z"
    }
   }
  },
  {
   "cell_type": "code",
   "execution_count": 22,
   "outputs": [
    {
     "data": {
      "text/plain": "       12/12/2023 12:59:18        MAC Address  \\\n0      12/12/2023 12:59:23  1C:28:AF:5C:42:82   \n1      12/12/2023 12:59:23  1C:28:AF:5C:42:81   \n2      12/12/2023 12:59:23  D0:4D:C6:F2:50:12   \n3      12/12/2023 12:59:23  D0:4D:C6:F2:50:11   \n4      12/12/2023 12:59:23  CE:D1:61:6E:C4:FD   \n...                    ...                ...   \n12698  12/12/2023 13:16:41  1C:28:AF:5C:42:92   \n12699  12/12/2023 13:16:41  1C:28:AF:5C:42:91   \n12700  12/12/2023 13:16:41  1C:28:AF:5C:42:90   \n12701  12/12/2023 13:16:41  1C:28:AF:5B:E9:B0   \n12702  12/12/2023 13:16:41  1C:28:AF:5B:FC:91   \n\n                                            Vendor            SSID  \\\n0      Aruba, a Hewlett Packard Enterprise Company    TUD-facility   \n1      Aruba, a Hewlett Packard Enterprise Company  tudelft-dastud   \n2      Aruba, a Hewlett Packard Enterprise Company    TUD-facility   \n3      Aruba, a Hewlett Packard Enterprise Company  tudelft-dastud   \n4                                              NaN  Galaxy A71C509   \n...                                            ...             ...   \n12698  Aruba, a Hewlett Packard Enterprise Company    TUD-facility   \n12699  Aruba, a Hewlett Packard Enterprise Company  tudelft-dastud   \n12700  Aruba, a Hewlett Packard Enterprise Company         eduroam   \n12701  Aruba, a Hewlett Packard Enterprise Company         eduroam   \n12702  Aruba, a Hewlett Packard Enterprise Company  tudelft-dastud   \n\n      Access Point Name Connected AP  Signal Strength  Quality  Station Count  \\\n0                   NaN          NaN              -75       53            0.0   \n1                   NaN          NaN              -75       53            0.0   \n2                   NaN          NaN              -80       38            0.0   \n3                   NaN          NaN              -81       35            0.0   \n4                   NaN          NaN              -75       53            NaN   \n...                 ...          ...              ...      ...            ...   \n12698               NaN          NaN              -87       22            0.0   \n12699               NaN          NaN              -87       22            0.0   \n12700               NaN          NaN              -88       20           11.0   \n12701               NaN          NaN              -89       18           15.0   \n12702               NaN          NaN              -83       31            3.0   \n\n                Frequency  Position                                  Info  \\\n0        Ch 6 [2.437 GHz]       NaN   0 Stations, 41% Channel Utilization   \n1        Ch 6 [2.437 GHz]       NaN   0 Stations, 41% Channel Utilization   \n2       Ch 36 [5.180 GHz]       NaN   0 Stations, 17% Channel Utilization   \n3       Ch 36 [5.180 GHz]       NaN   0 Stations, 17% Channel Utilization   \n4        Ch 6 [2.437 GHz]       NaN                                   NaN   \n...                   ...       ...                                   ...   \n12698   Ch 64 [5.320 GHz]       NaN    0 Stations, 7% Channel Utilization   \n12699   Ch 64 [5.320 GHz]       NaN    0 Stations, 7% Channel Utilization   \n12700   Ch 64 [5.320 GHz]       NaN   11 Stations, 7% Channel Utilization   \n12701  Ch 100 [5.500 GHz]       NaN  15 Stations, 13% Channel Utilization   \n12702   Ch 52 [5.260 GHz]       NaN    3 Stations, 9% Channel Utilization   \n\n                                     Adapter  \n0      WiFi [Intel(R) Wi-Fi 6E AX211 160MHz]  \n1      WiFi [Intel(R) Wi-Fi 6E AX211 160MHz]  \n2      WiFi [Intel(R) Wi-Fi 6E AX211 160MHz]  \n3      WiFi [Intel(R) Wi-Fi 6E AX211 160MHz]  \n4      WiFi [Intel(R) Wi-Fi 6E AX211 160MHz]  \n...                                      ...  \n12698  WiFi [Intel(R) Wi-Fi 6E AX211 160MHz]  \n12699  WiFi [Intel(R) Wi-Fi 6E AX211 160MHz]  \n12700  WiFi [Intel(R) Wi-Fi 6E AX211 160MHz]  \n12701  WiFi [Intel(R) Wi-Fi 6E AX211 160MHz]  \n12702  WiFi [Intel(R) Wi-Fi 6E AX211 160MHz]  \n\n[12703 rows x 13 columns]",
      "text/html": "<div>\n<style scoped>\n    .dataframe tbody tr th:only-of-type {\n        vertical-align: middle;\n    }\n\n    .dataframe tbody tr th {\n        vertical-align: top;\n    }\n\n    .dataframe thead th {\n        text-align: right;\n    }\n</style>\n<table border=\"1\" class=\"dataframe\">\n  <thead>\n    <tr style=\"text-align: right;\">\n      <th></th>\n      <th>12/12/2023 12:59:18</th>\n      <th>MAC Address</th>\n      <th>Vendor</th>\n      <th>SSID</th>\n      <th>Access Point Name</th>\n      <th>Connected AP</th>\n      <th>Signal Strength</th>\n      <th>Quality</th>\n      <th>Station Count</th>\n      <th>Frequency</th>\n      <th>Position</th>\n      <th>Info</th>\n      <th>Adapter</th>\n    </tr>\n  </thead>\n  <tbody>\n    <tr>\n      <th>0</th>\n      <td>12/12/2023 12:59:23</td>\n      <td>1C:28:AF:5C:42:82</td>\n      <td>Aruba, a Hewlett Packard Enterprise Company</td>\n      <td>TUD-facility</td>\n      <td>NaN</td>\n      <td>NaN</td>\n      <td>-75</td>\n      <td>53</td>\n      <td>0.0</td>\n      <td>Ch 6 [2.437 GHz]</td>\n      <td>NaN</td>\n      <td>0 Stations, 41% Channel Utilization</td>\n      <td>WiFi [Intel(R) Wi-Fi 6E AX211 160MHz]</td>\n    </tr>\n    <tr>\n      <th>1</th>\n      <td>12/12/2023 12:59:23</td>\n      <td>1C:28:AF:5C:42:81</td>\n      <td>Aruba, a Hewlett Packard Enterprise Company</td>\n      <td>tudelft-dastud</td>\n      <td>NaN</td>\n      <td>NaN</td>\n      <td>-75</td>\n      <td>53</td>\n      <td>0.0</td>\n      <td>Ch 6 [2.437 GHz]</td>\n      <td>NaN</td>\n      <td>0 Stations, 41% Channel Utilization</td>\n      <td>WiFi [Intel(R) Wi-Fi 6E AX211 160MHz]</td>\n    </tr>\n    <tr>\n      <th>2</th>\n      <td>12/12/2023 12:59:23</td>\n      <td>D0:4D:C6:F2:50:12</td>\n      <td>Aruba, a Hewlett Packard Enterprise Company</td>\n      <td>TUD-facility</td>\n      <td>NaN</td>\n      <td>NaN</td>\n      <td>-80</td>\n      <td>38</td>\n      <td>0.0</td>\n      <td>Ch 36 [5.180 GHz]</td>\n      <td>NaN</td>\n      <td>0 Stations, 17% Channel Utilization</td>\n      <td>WiFi [Intel(R) Wi-Fi 6E AX211 160MHz]</td>\n    </tr>\n    <tr>\n      <th>3</th>\n      <td>12/12/2023 12:59:23</td>\n      <td>D0:4D:C6:F2:50:11</td>\n      <td>Aruba, a Hewlett Packard Enterprise Company</td>\n      <td>tudelft-dastud</td>\n      <td>NaN</td>\n      <td>NaN</td>\n      <td>-81</td>\n      <td>35</td>\n      <td>0.0</td>\n      <td>Ch 36 [5.180 GHz]</td>\n      <td>NaN</td>\n      <td>0 Stations, 17% Channel Utilization</td>\n      <td>WiFi [Intel(R) Wi-Fi 6E AX211 160MHz]</td>\n    </tr>\n    <tr>\n      <th>4</th>\n      <td>12/12/2023 12:59:23</td>\n      <td>CE:D1:61:6E:C4:FD</td>\n      <td>NaN</td>\n      <td>Galaxy A71C509</td>\n      <td>NaN</td>\n      <td>NaN</td>\n      <td>-75</td>\n      <td>53</td>\n      <td>NaN</td>\n      <td>Ch 6 [2.437 GHz]</td>\n      <td>NaN</td>\n      <td>NaN</td>\n      <td>WiFi [Intel(R) Wi-Fi 6E AX211 160MHz]</td>\n    </tr>\n    <tr>\n      <th>...</th>\n      <td>...</td>\n      <td>...</td>\n      <td>...</td>\n      <td>...</td>\n      <td>...</td>\n      <td>...</td>\n      <td>...</td>\n      <td>...</td>\n      <td>...</td>\n      <td>...</td>\n      <td>...</td>\n      <td>...</td>\n      <td>...</td>\n    </tr>\n    <tr>\n      <th>12698</th>\n      <td>12/12/2023 13:16:41</td>\n      <td>1C:28:AF:5C:42:92</td>\n      <td>Aruba, a Hewlett Packard Enterprise Company</td>\n      <td>TUD-facility</td>\n      <td>NaN</td>\n      <td>NaN</td>\n      <td>-87</td>\n      <td>22</td>\n      <td>0.0</td>\n      <td>Ch 64 [5.320 GHz]</td>\n      <td>NaN</td>\n      <td>0 Stations, 7% Channel Utilization</td>\n      <td>WiFi [Intel(R) Wi-Fi 6E AX211 160MHz]</td>\n    </tr>\n    <tr>\n      <th>12699</th>\n      <td>12/12/2023 13:16:41</td>\n      <td>1C:28:AF:5C:42:91</td>\n      <td>Aruba, a Hewlett Packard Enterprise Company</td>\n      <td>tudelft-dastud</td>\n      <td>NaN</td>\n      <td>NaN</td>\n      <td>-87</td>\n      <td>22</td>\n      <td>0.0</td>\n      <td>Ch 64 [5.320 GHz]</td>\n      <td>NaN</td>\n      <td>0 Stations, 7% Channel Utilization</td>\n      <td>WiFi [Intel(R) Wi-Fi 6E AX211 160MHz]</td>\n    </tr>\n    <tr>\n      <th>12700</th>\n      <td>12/12/2023 13:16:41</td>\n      <td>1C:28:AF:5C:42:90</td>\n      <td>Aruba, a Hewlett Packard Enterprise Company</td>\n      <td>eduroam</td>\n      <td>NaN</td>\n      <td>NaN</td>\n      <td>-88</td>\n      <td>20</td>\n      <td>11.0</td>\n      <td>Ch 64 [5.320 GHz]</td>\n      <td>NaN</td>\n      <td>11 Stations, 7% Channel Utilization</td>\n      <td>WiFi [Intel(R) Wi-Fi 6E AX211 160MHz]</td>\n    </tr>\n    <tr>\n      <th>12701</th>\n      <td>12/12/2023 13:16:41</td>\n      <td>1C:28:AF:5B:E9:B0</td>\n      <td>Aruba, a Hewlett Packard Enterprise Company</td>\n      <td>eduroam</td>\n      <td>NaN</td>\n      <td>NaN</td>\n      <td>-89</td>\n      <td>18</td>\n      <td>15.0</td>\n      <td>Ch 100 [5.500 GHz]</td>\n      <td>NaN</td>\n      <td>15 Stations, 13% Channel Utilization</td>\n      <td>WiFi [Intel(R) Wi-Fi 6E AX211 160MHz]</td>\n    </tr>\n    <tr>\n      <th>12702</th>\n      <td>12/12/2023 13:16:41</td>\n      <td>1C:28:AF:5B:FC:91</td>\n      <td>Aruba, a Hewlett Packard Enterprise Company</td>\n      <td>tudelft-dastud</td>\n      <td>NaN</td>\n      <td>NaN</td>\n      <td>-83</td>\n      <td>31</td>\n      <td>3.0</td>\n      <td>Ch 52 [5.260 GHz]</td>\n      <td>NaN</td>\n      <td>3 Stations, 9% Channel Utilization</td>\n      <td>WiFi [Intel(R) Wi-Fi 6E AX211 160MHz]</td>\n    </tr>\n  </tbody>\n</table>\n<p>12703 rows × 13 columns</p>\n</div>"
     },
     "execution_count": 22,
     "metadata": {},
     "output_type": "execute_result"
    }
   ],
   "source": [
    "df_dict['Stairway (near Hall U) 2023-12-12 12-59-18.txt']"
   ],
   "metadata": {
    "collapsed": false,
    "ExecuteTime": {
     "end_time": "2023-12-15T08:47:43.965578Z",
     "start_time": "2023-12-15T08:47:43.953064Z"
    }
   }
  },
  {
   "cell_type": "markdown",
   "id": "999ad282",
   "metadata": {},
   "source": [
    "### A. Radio Mapping Phase"
   ]
  },
  {
   "cell_type": "markdown",
   "source": [
    "BK-City floor plan can be found [here.](https://www.tudelft.nl/bk/over-faculteit/het-gebouw/plattegrond/)"
   ],
   "metadata": {
    "collapsed": false
   }
  },
  {
   "cell_type": "code",
   "execution_count": null,
   "id": "3bf413c3",
   "metadata": {},
   "outputs": [],
   "source": []
  }
 ],
 "metadata": {
  "kernelspec": {
   "display_name": "Python 3 (ipykernel)",
   "language": "python",
   "name": "python3"
  },
  "language_info": {
   "codemirror_mode": {
    "name": "ipython",
    "version": 3
   },
   "file_extension": ".py",
   "mimetype": "text/x-python",
   "name": "python",
   "nbconvert_exporter": "python",
   "pygments_lexer": "ipython3",
   "version": "3.7.13"
  }
 },
 "nbformat": 4,
 "nbformat_minor": 5
}
