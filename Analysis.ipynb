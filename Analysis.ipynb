{
 "cells": [
  {
   "cell_type": "markdown",
   "id": "47e5567c",
   "metadata": {},
   "source": [
    "# EPA1333 ~ The Orchard"
   ]
  },
  {
   "cell_type": "markdown",
   "id": "e8f43cd3",
   "metadata": {},
   "source": [
    "October 2022\n",
    "\n",
    "Work by Vincent Engelhard, Berend Nieuwschepen and Corné Snoeij"
   ]
  },
  {
   "cell_type": "markdown",
   "id": "4283cfd4",
   "metadata": {},
   "source": [
    "### Importing libraries"
   ]
  },
  {
   "cell_type": "code",
   "execution_count": 1,
   "id": "1ac49b44",
   "metadata": {},
   "outputs": [],
   "source": [
    "import pandas as pd\n",
    "import numpy as np"
   ]
  },
  {
   "cell_type": "markdown",
   "id": "abe7611b",
   "metadata": {},
   "source": [
    "### Setting up orchard"
   ]
  },
  {
   "cell_type": "code",
   "execution_count": 5,
   "id": "cf4b259b",
   "metadata": {},
   "outputs": [],
   "source": [
    "class tree():\n",
    "    def __init__(self, specie, age=0, fruits=0):\n",
    "        \"creates a new instance of class Tree\"\n",
    "        self.specie = specie\n",
    "        self.age = age\n",
    "        self.fruits = fruits\n",
    "    \n",
    "    def grow(self): \n",
    "        self.fruits += 1    \n",
    "        print('Number of fruits is now ', self.fruits)\n",
    "    \n",
    "    def __str__(self):   # we would like to print tree specie and age\n",
    "        return self.specie + ' ' + self.age + ' '"
   ]
  },
  {
   "cell_type": "markdown",
   "id": "999ad282",
   "metadata": {},
   "source": [
    "### And more ... "
   ]
  },
  {
   "cell_type": "code",
   "execution_count": 1,
   "id": "5b0226b8",
   "metadata": {},
   "outputs": [
    {
     "name": "stdout",
     "output_type": "stream",
     "text": [
      "hello world\n"
     ]
    }
   ],
   "source": [
    "print(\"hello world\")"
   ]
  },
  {
   "cell_type": "code",
   "execution_count": null,
   "id": "3bf413c3",
   "metadata": {},
   "outputs": [],
   "source": []
  }
 ],
 "metadata": {
  "kernelspec": {
   "display_name": "Python 3 (ipykernel)",
   "language": "python",
   "name": "python3"
  },
  "language_info": {
   "codemirror_mode": {
    "name": "ipython",
    "version": 3
   },
   "file_extension": ".py",
   "mimetype": "text/x-python",
   "name": "python",
   "nbconvert_exporter": "python",
   "pygments_lexer": "ipython3",
   "version": "3.7.13"
  }
 },
 "nbformat": 4,
 "nbformat_minor": 5
}
