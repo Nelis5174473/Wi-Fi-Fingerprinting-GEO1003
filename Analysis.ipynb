{
 "cells": [
  {
   "cell_type": "markdown",
   "id": "47e5567c",
   "metadata": {},
   "source": [
    "# GEO1003 ~ Wi-Fi Fingerprinting"
   ]
  },
  {
   "cell_type": "markdown",
   "id": "e8f43cd3",
   "metadata": {},
   "source": [
    "December 2023\n",
    "\n",
    "Work by Tom Barbian (5100704), Der Derian Auliyaa Bainus (5941342), Corné Snoeij (5174473), Javier Martínez (6055613)"
   ]
  },
  {
   "cell_type": "markdown",
   "id": "4283cfd4",
   "metadata": {},
   "source": [
    "### Importing libraries"
   ]
  },
  {
   "cell_type": "code",
   "execution_count": 1,
   "id": "1ac49b44",
   "metadata": {
    "ExecuteTime": {
     "end_time": "2023-12-15T08:10:42.605110Z",
     "start_time": "2023-12-15T08:10:16.310140Z"
    }
   },
   "outputs": [],
   "source": [
    "import pandas as pd\n",
    "import numpy as np"
   ]
  },
  {
   "cell_type": "markdown",
   "id": "abe7611b",
   "metadata": {},
   "source": [
    "### Loading the data"
   ]
  },
  {
   "cell_type": "code",
   "execution_count": 1,
   "id": "cf4b259b",
   "metadata": {
    "ExecuteTime": {
     "end_time": "2023-12-15T08:10:42.607682Z",
     "start_time": "2023-12-15T08:10:35.354998Z"
    }
   },
   "outputs": [],
   "source": []
  },
  {
   "cell_type": "markdown",
   "id": "999ad282",
   "metadata": {},
   "source": [
    "### And more ... "
   ]
  },
  {
   "cell_type": "code",
   "execution_count": 2,
   "id": "5b0226b8",
   "metadata": {
    "ExecuteTime": {
     "end_time": "2023-12-15T08:10:42.608638Z",
     "start_time": "2023-12-15T08:10:35.357830Z"
    }
   },
   "outputs": [
    {
     "name": "stdout",
     "output_type": "stream",
     "text": [
      "hello world\n"
     ]
    }
   ],
   "source": [
    "print(\"hello world\")"
   ]
  },
  {
   "cell_type": "code",
   "execution_count": null,
   "id": "3bf413c3",
   "metadata": {},
   "outputs": [],
   "source": []
  }
 ],
 "metadata": {
  "kernelspec": {
   "display_name": "Python 3 (ipykernel)",
   "language": "python",
   "name": "python3"
  },
  "language_info": {
   "codemirror_mode": {
    "name": "ipython",
    "version": 3
   },
   "file_extension": ".py",
   "mimetype": "text/x-python",
   "name": "python",
   "nbconvert_exporter": "python",
   "pygments_lexer": "ipython3",
   "version": "3.7.13"
  }
 },
 "nbformat": 4,
 "nbformat_minor": 5
}
