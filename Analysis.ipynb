{
 "cells": [
  {
   "cell_type": "markdown",
   "id": "47e5567c",
   "metadata": {},
   "source": [
    "# GEO1003 ~ Wi-Fi Fingerprinting"
   ]
  },
  {
   "cell_type": "markdown",
   "id": "e8f43cd3",
   "metadata": {},
   "source": [
    "December 2023\n",
    "\n",
    "Work by Tom Barbian (5100704), Der Derian Auliyaa Bainus (5941342), Corné Snoeij (5174473), Javier Martínez (6055613)"
   ]
  },
  {
   "cell_type": "markdown",
   "id": "4283cfd4",
   "metadata": {},
   "source": [
    "### Importing libraries"
   ]
  },
  {
   "cell_type": "code",
   "execution_count": 57,
   "id": "1ac49b44",
   "metadata": {
    "ExecuteTime": {
     "end_time": "2023-12-15T09:49:06.959770Z",
     "start_time": "2023-12-15T09:48:55.183195Z"
    }
   },
   "outputs": [],
   "source": [
    "import pandas as pd\n",
    "import numpy as np\n",
    "import os\n",
    "import matplotlib.pyplot as plt\n",
    "import contextily as ctx"
   ]
  },
  {
   "cell_type": "markdown",
   "id": "abe7611b",
   "metadata": {},
   "source": [
    "### Loading the data"
   ]
  },
  {
   "cell_type": "markdown",
   "source": [
    "##### Wi-Fi fingerprinting data"
   ],
   "metadata": {
    "collapsed": false
   }
  },
  {
   "cell_type": "code",
   "execution_count": 24,
   "outputs": [
    {
     "data": {
      "text/plain": "['Ketelhuis side room.txt',\n 'Serre 2023-12-08 10-53-11.txt',\n 'Hall H 2023-12-11 12-51-23 .txt',\n 'HALL D.txt',\n 'entrance west.txt',\n 'HALL R.txt',\n 'BG+ half-floor.txt',\n 'BK library 2023-12-11-13-41.txt',\n 'Geolab 2023-12-08 09-11-59.txt',\n 'Stairway (near Hall U) 2023-12-12 12-59-18.txt',\n 'V 2023-12-08 09-42-29.txt',\n 'management stairs.txt',\n 'Hall Z 2023-12-12 13-22-50.txt',\n 'Msc 2023-12-08 10-14-01.txt',\n 'Hall K 2023-12-12 12-32-57.txt',\n 'vrlab.txt']"
     },
     "execution_count": 24,
     "metadata": {},
     "output_type": "execute_result"
    }
   ],
   "source": [
    "# load the files within folder /data/fingerprints into a list\n",
    "wifi_path = os.getcwd() + '/data/fingerprints'\n",
    "wifi_files = os.listdir(wifi_path)\n",
    "wifi_files"
   ],
   "metadata": {
    "collapsed": false,
    "ExecuteTime": {
     "end_time": "2023-12-15T09:24:16.085310Z",
     "start_time": "2023-12-15T09:24:16.077470Z"
    }
   }
  },
  {
   "cell_type": "code",
   "execution_count": 143,
   "id": "cf4b259b",
   "metadata": {
    "ExecuteTime": {
     "end_time": "2023-12-15T11:49:58.741828Z",
     "start_time": "2023-12-15T11:49:58.289493Z"
    }
   },
   "outputs": [],
   "source": [
    "# load the files into a list of dataframes\n",
    "df_dict = {}\n",
    "\n",
    "for file in wifi_files:\n",
    "    df_dict[file] = pd.read_csv(wifi_path + '/' + file, sep='\\t', header=0)\n",
    "    df_dict[file].rename(columns={df_dict[file].columns[0]: \"timestamp\"}, inplace=True)"
   ]
  },
  {
   "cell_type": "code",
   "execution_count": 164,
   "outputs": [
    {
     "data": {
      "text/plain": "                 timestamp  D0:4D:C6:F2:45:D1  \\\n0      12/12/2023 13:22:50  D0:4D:C6:F2:B9:C1   \n1      12/12/2023 13:22:50  D0:4D:C6:F2:9A:61   \n2      12/12/2023 13:22:50  D0:4D:C6:F2:B9:B2   \n3      12/12/2023 13:22:50  1C:28:AF:5B:8E:F2   \n4      12/12/2023 13:22:50  1C:28:AF:5C:43:E2   \n...                    ...                ...   \n19905  12/12/2023 13:40:55  D0:4D:C6:F2:B9:A0   \n19906  12/12/2023 13:40:55  1C:28:AF:5C:43:F1   \n19907  12/12/2023 13:40:55  D0:4D:C6:F2:92:C1   \n19908  12/12/2023 13:40:55  D0:4D:C6:F2:4F:D2   \n19909  12/12/2023 13:40:55  D0:4D:C6:F2:B9:A1   \n\n       Aruba, a Hewlett Packard Enterprise Company  tudelft-dastud Unnamed: 4  \\\n0      Aruba, a Hewlett Packard Enterprise Company  tudelft-dastud        NaN   \n1      Aruba, a Hewlett Packard Enterprise Company  tudelft-dastud        NaN   \n2      Aruba, a Hewlett Packard Enterprise Company    TUD-facility        NaN   \n3      Aruba, a Hewlett Packard Enterprise Company    TUD-facility        NaN   \n4      Aruba, a Hewlett Packard Enterprise Company    TUD-facility        NaN   \n...                                            ...             ...        ...   \n19905  Aruba, a Hewlett Packard Enterprise Company         eduroam        NaN   \n19906  Aruba, a Hewlett Packard Enterprise Company  tudelft-dastud        NaN   \n19907  Aruba, a Hewlett Packard Enterprise Company  tudelft-dastud        NaN   \n19908  Aruba, a Hewlett Packard Enterprise Company    TUD-facility        NaN   \n19909  Aruba, a Hewlett Packard Enterprise Company  tudelft-dastud        NaN   \n\n      Unnamed: 5  -88  20    0   Ch 56 [5.280 GHz]  Unnamed: 10  \\\n0            NaN  -77  46  0.0    Ch 6 [2.437 GHz]          NaN   \n1            NaN  -80  38  0.0    Ch 1 [2.412 GHz]          NaN   \n2            NaN  -83  31  0.0   Ch 40 [5.200 GHz]          NaN   \n3            NaN  -81  35  0.0   Ch 56 [5.280 GHz]          NaN   \n4            NaN  -79  40  0.0   Ch 11 [2.462 GHz]          NaN   \n...          ...  ...  ..  ...                 ...          ...   \n19905        NaN  -84  29  0.0   Ch 11 [2.462 GHz]          NaN   \n19906        NaN  -83  31  0.0  Ch 112 [5.560 GHz]          NaN   \n19907        NaN  -83  31  1.0    Ch 1 [2.412 GHz]          NaN   \n19908        NaN  -88  20  0.0   Ch 40 [5.200 GHz]          NaN   \n19909        NaN  -84  29  0.0   Ch 11 [2.462 GHz]          NaN   \n\n       0 Stations, 14% Channel Utilization  \\\n0      0 Stations, 13% Channel Utilization   \n1      0 Stations, 28% Channel Utilization   \n2       0 Stations, 8% Channel Utilization   \n3      0 Stations, 17% Channel Utilization   \n4      0 Stations, 76% Channel Utilization   \n...                                    ...   \n19905  0 Stations, 14% Channel Utilization   \n19906   0 Stations, 7% Channel Utilization   \n19907   1 Station, 40% Channel Utilization   \n19908  0 Stations, 19% Channel Utilization   \n19909  0 Stations, 14% Channel Utilization   \n\n       WiFi [Intel(R) Wi-Fi 6E AX211 160MHz]  \n0      WiFi [Intel(R) Wi-Fi 6E AX211 160MHz]  \n1      WiFi [Intel(R) Wi-Fi 6E AX211 160MHz]  \n2      WiFi [Intel(R) Wi-Fi 6E AX211 160MHz]  \n3      WiFi [Intel(R) Wi-Fi 6E AX211 160MHz]  \n4      WiFi [Intel(R) Wi-Fi 6E AX211 160MHz]  \n...                                      ...  \n19905  WiFi [Intel(R) Wi-Fi 6E AX211 160MHz]  \n19906  WiFi [Intel(R) Wi-Fi 6E AX211 160MHz]  \n19907  WiFi [Intel(R) Wi-Fi 6E AX211 160MHz]  \n19908  WiFi [Intel(R) Wi-Fi 6E AX211 160MHz]  \n19909  WiFi [Intel(R) Wi-Fi 6E AX211 160MHz]  \n\n[19910 rows x 13 columns]",
      "text/html": "<div>\n<style scoped>\n    .dataframe tbody tr th:only-of-type {\n        vertical-align: middle;\n    }\n\n    .dataframe tbody tr th {\n        vertical-align: top;\n    }\n\n    .dataframe thead th {\n        text-align: right;\n    }\n</style>\n<table border=\"1\" class=\"dataframe\">\n  <thead>\n    <tr style=\"text-align: right;\">\n      <th></th>\n      <th>timestamp</th>\n      <th>D0:4D:C6:F2:45:D1</th>\n      <th>Aruba, a Hewlett Packard Enterprise Company</th>\n      <th>tudelft-dastud</th>\n      <th>Unnamed: 4</th>\n      <th>Unnamed: 5</th>\n      <th>-88</th>\n      <th>20</th>\n      <th>0</th>\n      <th>Ch 56 [5.280 GHz]</th>\n      <th>Unnamed: 10</th>\n      <th>0 Stations, 14% Channel Utilization</th>\n      <th>WiFi [Intel(R) Wi-Fi 6E AX211 160MHz]</th>\n    </tr>\n  </thead>\n  <tbody>\n    <tr>\n      <th>0</th>\n      <td>12/12/2023 13:22:50</td>\n      <td>D0:4D:C6:F2:B9:C1</td>\n      <td>Aruba, a Hewlett Packard Enterprise Company</td>\n      <td>tudelft-dastud</td>\n      <td>NaN</td>\n      <td>NaN</td>\n      <td>-77</td>\n      <td>46</td>\n      <td>0.0</td>\n      <td>Ch 6 [2.437 GHz]</td>\n      <td>NaN</td>\n      <td>0 Stations, 13% Channel Utilization</td>\n      <td>WiFi [Intel(R) Wi-Fi 6E AX211 160MHz]</td>\n    </tr>\n    <tr>\n      <th>1</th>\n      <td>12/12/2023 13:22:50</td>\n      <td>D0:4D:C6:F2:9A:61</td>\n      <td>Aruba, a Hewlett Packard Enterprise Company</td>\n      <td>tudelft-dastud</td>\n      <td>NaN</td>\n      <td>NaN</td>\n      <td>-80</td>\n      <td>38</td>\n      <td>0.0</td>\n      <td>Ch 1 [2.412 GHz]</td>\n      <td>NaN</td>\n      <td>0 Stations, 28% Channel Utilization</td>\n      <td>WiFi [Intel(R) Wi-Fi 6E AX211 160MHz]</td>\n    </tr>\n    <tr>\n      <th>2</th>\n      <td>12/12/2023 13:22:50</td>\n      <td>D0:4D:C6:F2:B9:B2</td>\n      <td>Aruba, a Hewlett Packard Enterprise Company</td>\n      <td>TUD-facility</td>\n      <td>NaN</td>\n      <td>NaN</td>\n      <td>-83</td>\n      <td>31</td>\n      <td>0.0</td>\n      <td>Ch 40 [5.200 GHz]</td>\n      <td>NaN</td>\n      <td>0 Stations, 8% Channel Utilization</td>\n      <td>WiFi [Intel(R) Wi-Fi 6E AX211 160MHz]</td>\n    </tr>\n    <tr>\n      <th>3</th>\n      <td>12/12/2023 13:22:50</td>\n      <td>1C:28:AF:5B:8E:F2</td>\n      <td>Aruba, a Hewlett Packard Enterprise Company</td>\n      <td>TUD-facility</td>\n      <td>NaN</td>\n      <td>NaN</td>\n      <td>-81</td>\n      <td>35</td>\n      <td>0.0</td>\n      <td>Ch 56 [5.280 GHz]</td>\n      <td>NaN</td>\n      <td>0 Stations, 17% Channel Utilization</td>\n      <td>WiFi [Intel(R) Wi-Fi 6E AX211 160MHz]</td>\n    </tr>\n    <tr>\n      <th>4</th>\n      <td>12/12/2023 13:22:50</td>\n      <td>1C:28:AF:5C:43:E2</td>\n      <td>Aruba, a Hewlett Packard Enterprise Company</td>\n      <td>TUD-facility</td>\n      <td>NaN</td>\n      <td>NaN</td>\n      <td>-79</td>\n      <td>40</td>\n      <td>0.0</td>\n      <td>Ch 11 [2.462 GHz]</td>\n      <td>NaN</td>\n      <td>0 Stations, 76% Channel Utilization</td>\n      <td>WiFi [Intel(R) Wi-Fi 6E AX211 160MHz]</td>\n    </tr>\n    <tr>\n      <th>...</th>\n      <td>...</td>\n      <td>...</td>\n      <td>...</td>\n      <td>...</td>\n      <td>...</td>\n      <td>...</td>\n      <td>...</td>\n      <td>...</td>\n      <td>...</td>\n      <td>...</td>\n      <td>...</td>\n      <td>...</td>\n      <td>...</td>\n    </tr>\n    <tr>\n      <th>19905</th>\n      <td>12/12/2023 13:40:55</td>\n      <td>D0:4D:C6:F2:B9:A0</td>\n      <td>Aruba, a Hewlett Packard Enterprise Company</td>\n      <td>eduroam</td>\n      <td>NaN</td>\n      <td>NaN</td>\n      <td>-84</td>\n      <td>29</td>\n      <td>0.0</td>\n      <td>Ch 11 [2.462 GHz]</td>\n      <td>NaN</td>\n      <td>0 Stations, 14% Channel Utilization</td>\n      <td>WiFi [Intel(R) Wi-Fi 6E AX211 160MHz]</td>\n    </tr>\n    <tr>\n      <th>19906</th>\n      <td>12/12/2023 13:40:55</td>\n      <td>1C:28:AF:5C:43:F1</td>\n      <td>Aruba, a Hewlett Packard Enterprise Company</td>\n      <td>tudelft-dastud</td>\n      <td>NaN</td>\n      <td>NaN</td>\n      <td>-83</td>\n      <td>31</td>\n      <td>0.0</td>\n      <td>Ch 112 [5.560 GHz]</td>\n      <td>NaN</td>\n      <td>0 Stations, 7% Channel Utilization</td>\n      <td>WiFi [Intel(R) Wi-Fi 6E AX211 160MHz]</td>\n    </tr>\n    <tr>\n      <th>19907</th>\n      <td>12/12/2023 13:40:55</td>\n      <td>D0:4D:C6:F2:92:C1</td>\n      <td>Aruba, a Hewlett Packard Enterprise Company</td>\n      <td>tudelft-dastud</td>\n      <td>NaN</td>\n      <td>NaN</td>\n      <td>-83</td>\n      <td>31</td>\n      <td>1.0</td>\n      <td>Ch 1 [2.412 GHz]</td>\n      <td>NaN</td>\n      <td>1 Station, 40% Channel Utilization</td>\n      <td>WiFi [Intel(R) Wi-Fi 6E AX211 160MHz]</td>\n    </tr>\n    <tr>\n      <th>19908</th>\n      <td>12/12/2023 13:40:55</td>\n      <td>D0:4D:C6:F2:4F:D2</td>\n      <td>Aruba, a Hewlett Packard Enterprise Company</td>\n      <td>TUD-facility</td>\n      <td>NaN</td>\n      <td>NaN</td>\n      <td>-88</td>\n      <td>20</td>\n      <td>0.0</td>\n      <td>Ch 40 [5.200 GHz]</td>\n      <td>NaN</td>\n      <td>0 Stations, 19% Channel Utilization</td>\n      <td>WiFi [Intel(R) Wi-Fi 6E AX211 160MHz]</td>\n    </tr>\n    <tr>\n      <th>19909</th>\n      <td>12/12/2023 13:40:55</td>\n      <td>D0:4D:C6:F2:B9:A1</td>\n      <td>Aruba, a Hewlett Packard Enterprise Company</td>\n      <td>tudelft-dastud</td>\n      <td>NaN</td>\n      <td>NaN</td>\n      <td>-84</td>\n      <td>29</td>\n      <td>0.0</td>\n      <td>Ch 11 [2.462 GHz]</td>\n      <td>NaN</td>\n      <td>0 Stations, 14% Channel Utilization</td>\n      <td>WiFi [Intel(R) Wi-Fi 6E AX211 160MHz]</td>\n    </tr>\n  </tbody>\n</table>\n<p>19910 rows × 13 columns</p>\n</div>"
     },
     "execution_count": 164,
     "metadata": {},
     "output_type": "execute_result"
    }
   ],
   "source": [
    "df_dict['Hall Z 2023-12-12 13-22-50.txt']"
   ],
   "metadata": {
    "collapsed": false,
    "ExecuteTime": {
     "end_time": "2023-12-15T12:02:42.010714Z",
     "start_time": "2023-12-15T12:02:41.986741Z"
    }
   }
  },
  {
   "cell_type": "code",
   "execution_count": 163,
   "outputs": [
    {
     "data": {
      "text/plain": "                timestamp        MAC Address  \\\n0      8-12-2023 09:42:40  D0:4D:C6:F2:87:92   \n1      8-12-2023 09:42:40  1C:28:AF:5B:83:F2   \n2      8-12-2023 09:42:40  D0:4D:C6:F2:C7:F0   \n3      8-12-2023 09:42:40  D0:4D:C6:F2:F2:12   \n4      8-12-2023 09:42:41  4E:1B:86:4C:C4:97   \n...                   ...                ...   \n11266  8-12-2023 09:57:49  D0:4D:C6:F2:C7:F2   \n11267  8-12-2023 09:57:49  D0:4D:C6:F2:F2:02   \n11268  8-12-2023 09:57:49  D0:4D:C6:F2:9A:62   \n11269  8-12-2023 09:57:49  D0:4D:C6:F2:9A:61   \n11270  8-12-2023 09:57:49  D0:4D:C6:F3:0A:42   \n\n                                            Vendor            SSID  \\\n0      Aruba, a Hewlett Packard Enterprise Company    TUD-facility   \n1      Aruba, a Hewlett Packard Enterprise Company    TUD-facility   \n2      Aruba, a Hewlett Packard Enterprise Company         eduroam   \n3      Aruba, a Hewlett Packard Enterprise Company    TUD-facility   \n4                             Arcadyan Corporation      BWA-1CC496   \n...                                            ...             ...   \n11266  Aruba, a Hewlett Packard Enterprise Company    TUD-facility   \n11267  Aruba, a Hewlett Packard Enterprise Company    TUD-facility   \n11268  Aruba, a Hewlett Packard Enterprise Company    TUD-facility   \n11269  Aruba, a Hewlett Packard Enterprise Company  tudelft-dastud   \n11270  Aruba, a Hewlett Packard Enterprise Company    TUD-facility   \n\n      Access Point Name Connected AP  Signal Strength  Quality  Station Count  \\\n0                   NaN          NaN              -48       89            0.0   \n1                   NaN          NaN              -79       40            0.0   \n2                   NaN          NaN              -77       46           28.0   \n3                   NaN          NaN              -78       43            0.0   \n4                   NaN          NaN              -83       31            0.0   \n...                 ...          ...              ...      ...            ...   \n11266               NaN          NaN              -70       67            0.0   \n11267               NaN          NaN              -74       57            0.0   \n11268               NaN          NaN              -79       40            0.0   \n11269               NaN          NaN              -79       40            0.0   \n11270               NaN          NaN              -68       72            0.0   \n\n                Frequency  Position                                  Info  \\\n0      Ch 132 [5.660 GHz]       NaN    0 Stations, 8% Channel Utilization   \n1      Ch 108 [5.540 GHz]       NaN    0 Stations, 6% Channel Utilization   \n2       Ch 56 [5.280 GHz]       NaN  28 Stations, 22% Channel Utilization   \n3       Ch 40 [5.200 GHz]       NaN   0 Stations, 49% Channel Utilization   \n4        Ch 6 [2.437 GHz]       NaN    0 Stations, 1% Channel Utilization   \n...                   ...       ...                                   ...   \n11266   Ch 56 [5.280 GHz]       NaN   0 Stations, 11% Channel Utilization   \n11267    Ch 6 [2.437 GHz]       NaN   0 Stations, 33% Channel Utilization   \n11268    Ch 1 [2.412 GHz]       NaN   0 Stations, 15% Channel Utilization   \n11269    Ch 1 [2.412 GHz]       NaN   0 Stations, 15% Channel Utilization   \n11270    Ch 1 [2.412 GHz]       NaN   0 Stations, 12% Channel Utilization   \n\n                                                Adapter  \n0      Wi-Fi 2 [Intel(R) Dual Band Wireless-AC 8265 #2]  \n1      Wi-Fi 2 [Intel(R) Dual Band Wireless-AC 8265 #2]  \n2      Wi-Fi 2 [Intel(R) Dual Band Wireless-AC 8265 #2]  \n3      Wi-Fi 2 [Intel(R) Dual Band Wireless-AC 8265 #2]  \n4      Wi-Fi 2 [Intel(R) Dual Band Wireless-AC 8265 #2]  \n...                                                 ...  \n11266  Wi-Fi 2 [Intel(R) Dual Band Wireless-AC 8265 #2]  \n11267  Wi-Fi 2 [Intel(R) Dual Band Wireless-AC 8265 #2]  \n11268  Wi-Fi 2 [Intel(R) Dual Band Wireless-AC 8265 #2]  \n11269  Wi-Fi 2 [Intel(R) Dual Band Wireless-AC 8265 #2]  \n11270  Wi-Fi 2 [Intel(R) Dual Band Wireless-AC 8265 #2]  \n\n[11271 rows x 13 columns]",
      "text/html": "<div>\n<style scoped>\n    .dataframe tbody tr th:only-of-type {\n        vertical-align: middle;\n    }\n\n    .dataframe tbody tr th {\n        vertical-align: top;\n    }\n\n    .dataframe thead th {\n        text-align: right;\n    }\n</style>\n<table border=\"1\" class=\"dataframe\">\n  <thead>\n    <tr style=\"text-align: right;\">\n      <th></th>\n      <th>timestamp</th>\n      <th>MAC Address</th>\n      <th>Vendor</th>\n      <th>SSID</th>\n      <th>Access Point Name</th>\n      <th>Connected AP</th>\n      <th>Signal Strength</th>\n      <th>Quality</th>\n      <th>Station Count</th>\n      <th>Frequency</th>\n      <th>Position</th>\n      <th>Info</th>\n      <th>Adapter</th>\n    </tr>\n  </thead>\n  <tbody>\n    <tr>\n      <th>0</th>\n      <td>8-12-2023 09:42:40</td>\n      <td>D0:4D:C6:F2:87:92</td>\n      <td>Aruba, a Hewlett Packard Enterprise Company</td>\n      <td>TUD-facility</td>\n      <td>NaN</td>\n      <td>NaN</td>\n      <td>-48</td>\n      <td>89</td>\n      <td>0.0</td>\n      <td>Ch 132 [5.660 GHz]</td>\n      <td>NaN</td>\n      <td>0 Stations, 8% Channel Utilization</td>\n      <td>Wi-Fi 2 [Intel(R) Dual Band Wireless-AC 8265 #2]</td>\n    </tr>\n    <tr>\n      <th>1</th>\n      <td>8-12-2023 09:42:40</td>\n      <td>1C:28:AF:5B:83:F2</td>\n      <td>Aruba, a Hewlett Packard Enterprise Company</td>\n      <td>TUD-facility</td>\n      <td>NaN</td>\n      <td>NaN</td>\n      <td>-79</td>\n      <td>40</td>\n      <td>0.0</td>\n      <td>Ch 108 [5.540 GHz]</td>\n      <td>NaN</td>\n      <td>0 Stations, 6% Channel Utilization</td>\n      <td>Wi-Fi 2 [Intel(R) Dual Band Wireless-AC 8265 #2]</td>\n    </tr>\n    <tr>\n      <th>2</th>\n      <td>8-12-2023 09:42:40</td>\n      <td>D0:4D:C6:F2:C7:F0</td>\n      <td>Aruba, a Hewlett Packard Enterprise Company</td>\n      <td>eduroam</td>\n      <td>NaN</td>\n      <td>NaN</td>\n      <td>-77</td>\n      <td>46</td>\n      <td>28.0</td>\n      <td>Ch 56 [5.280 GHz]</td>\n      <td>NaN</td>\n      <td>28 Stations, 22% Channel Utilization</td>\n      <td>Wi-Fi 2 [Intel(R) Dual Band Wireless-AC 8265 #2]</td>\n    </tr>\n    <tr>\n      <th>3</th>\n      <td>8-12-2023 09:42:40</td>\n      <td>D0:4D:C6:F2:F2:12</td>\n      <td>Aruba, a Hewlett Packard Enterprise Company</td>\n      <td>TUD-facility</td>\n      <td>NaN</td>\n      <td>NaN</td>\n      <td>-78</td>\n      <td>43</td>\n      <td>0.0</td>\n      <td>Ch 40 [5.200 GHz]</td>\n      <td>NaN</td>\n      <td>0 Stations, 49% Channel Utilization</td>\n      <td>Wi-Fi 2 [Intel(R) Dual Band Wireless-AC 8265 #2]</td>\n    </tr>\n    <tr>\n      <th>4</th>\n      <td>8-12-2023 09:42:41</td>\n      <td>4E:1B:86:4C:C4:97</td>\n      <td>Arcadyan Corporation</td>\n      <td>BWA-1CC496</td>\n      <td>NaN</td>\n      <td>NaN</td>\n      <td>-83</td>\n      <td>31</td>\n      <td>0.0</td>\n      <td>Ch 6 [2.437 GHz]</td>\n      <td>NaN</td>\n      <td>0 Stations, 1% Channel Utilization</td>\n      <td>Wi-Fi 2 [Intel(R) Dual Band Wireless-AC 8265 #2]</td>\n    </tr>\n    <tr>\n      <th>...</th>\n      <td>...</td>\n      <td>...</td>\n      <td>...</td>\n      <td>...</td>\n      <td>...</td>\n      <td>...</td>\n      <td>...</td>\n      <td>...</td>\n      <td>...</td>\n      <td>...</td>\n      <td>...</td>\n      <td>...</td>\n      <td>...</td>\n    </tr>\n    <tr>\n      <th>11266</th>\n      <td>8-12-2023 09:57:49</td>\n      <td>D0:4D:C6:F2:C7:F2</td>\n      <td>Aruba, a Hewlett Packard Enterprise Company</td>\n      <td>TUD-facility</td>\n      <td>NaN</td>\n      <td>NaN</td>\n      <td>-70</td>\n      <td>67</td>\n      <td>0.0</td>\n      <td>Ch 56 [5.280 GHz]</td>\n      <td>NaN</td>\n      <td>0 Stations, 11% Channel Utilization</td>\n      <td>Wi-Fi 2 [Intel(R) Dual Band Wireless-AC 8265 #2]</td>\n    </tr>\n    <tr>\n      <th>11267</th>\n      <td>8-12-2023 09:57:49</td>\n      <td>D0:4D:C6:F2:F2:02</td>\n      <td>Aruba, a Hewlett Packard Enterprise Company</td>\n      <td>TUD-facility</td>\n      <td>NaN</td>\n      <td>NaN</td>\n      <td>-74</td>\n      <td>57</td>\n      <td>0.0</td>\n      <td>Ch 6 [2.437 GHz]</td>\n      <td>NaN</td>\n      <td>0 Stations, 33% Channel Utilization</td>\n      <td>Wi-Fi 2 [Intel(R) Dual Band Wireless-AC 8265 #2]</td>\n    </tr>\n    <tr>\n      <th>11268</th>\n      <td>8-12-2023 09:57:49</td>\n      <td>D0:4D:C6:F2:9A:62</td>\n      <td>Aruba, a Hewlett Packard Enterprise Company</td>\n      <td>TUD-facility</td>\n      <td>NaN</td>\n      <td>NaN</td>\n      <td>-79</td>\n      <td>40</td>\n      <td>0.0</td>\n      <td>Ch 1 [2.412 GHz]</td>\n      <td>NaN</td>\n      <td>0 Stations, 15% Channel Utilization</td>\n      <td>Wi-Fi 2 [Intel(R) Dual Band Wireless-AC 8265 #2]</td>\n    </tr>\n    <tr>\n      <th>11269</th>\n      <td>8-12-2023 09:57:49</td>\n      <td>D0:4D:C6:F2:9A:61</td>\n      <td>Aruba, a Hewlett Packard Enterprise Company</td>\n      <td>tudelft-dastud</td>\n      <td>NaN</td>\n      <td>NaN</td>\n      <td>-79</td>\n      <td>40</td>\n      <td>0.0</td>\n      <td>Ch 1 [2.412 GHz]</td>\n      <td>NaN</td>\n      <td>0 Stations, 15% Channel Utilization</td>\n      <td>Wi-Fi 2 [Intel(R) Dual Band Wireless-AC 8265 #2]</td>\n    </tr>\n    <tr>\n      <th>11270</th>\n      <td>8-12-2023 09:57:49</td>\n      <td>D0:4D:C6:F3:0A:42</td>\n      <td>Aruba, a Hewlett Packard Enterprise Company</td>\n      <td>TUD-facility</td>\n      <td>NaN</td>\n      <td>NaN</td>\n      <td>-68</td>\n      <td>72</td>\n      <td>0.0</td>\n      <td>Ch 1 [2.412 GHz]</td>\n      <td>NaN</td>\n      <td>0 Stations, 12% Channel Utilization</td>\n      <td>Wi-Fi 2 [Intel(R) Dual Band Wireless-AC 8265 #2]</td>\n    </tr>\n  </tbody>\n</table>\n<p>11271 rows × 13 columns</p>\n</div>"
     },
     "execution_count": 163,
     "metadata": {},
     "output_type": "execute_result"
    }
   ],
   "source": [
    "df_dict['V 2023-12-08 09-42-29.txt']"
   ],
   "metadata": {
    "collapsed": false,
    "ExecuteTime": {
     "end_time": "2023-12-15T12:02:18.973227Z",
     "start_time": "2023-12-15T12:02:18.958949Z"
    }
   }
  },
  {
   "cell_type": "code",
   "execution_count": 153,
   "outputs": [
    {
     "data": {
      "text/plain": "Index(['timestamp', 'MAC Address', 'Vendor', 'SSID', 'Access Point Name',\n       'Connected AP', 'Signal Strength', 'Quality', 'Station Count',\n       'Frequency', 'Position', 'Info', 'Adapter'],\n      dtype='object')"
     },
     "execution_count": 153,
     "metadata": {},
     "output_type": "execute_result"
    }
   ],
   "source": [
    "df_dict['Stairway (near Hall U) 2023-12-12 12-59-18.txt'].columns"
   ],
   "metadata": {
    "collapsed": false,
    "ExecuteTime": {
     "end_time": "2023-12-15T11:55:08.127473Z",
     "start_time": "2023-12-15T11:55:08.120416Z"
    }
   }
  },
  {
   "cell_type": "markdown",
   "source": [
    "##### GNSS nmea data"
   ],
   "metadata": {
    "collapsed": false
   }
  },
  {
   "cell_type": "code",
   "execution_count": 146,
   "outputs": [],
   "source": [
    "# This function was coded by Lars, but modified to save to dataframe\n",
    "\n",
    "def get_sat_values(filename):\n",
    "    PDOP, HDOP, VDOP, latitude, longitude, num_used_satellites, altitude = [], [], [], [], [], [], []\n",
    "\n",
    "    with open(filename, 'r') as file:\n",
    "        lines = file.readlines()\n",
    "        # divide messages\n",
    "        messages = [lines[i:i + 7] for i in range(0, len(lines), 7)]\n",
    "\n",
    "        for message in messages:\n",
    "            PDOP.append(float(message[0].split(',')[15]))\n",
    "            HDOP.append(float(message[0].split(',')[16]))\n",
    "            VDOP.append(float(message[0].split(',')[17][:3]))\n",
    "            latitude.append(float(message[6].split(',')[2:3][0]))\n",
    "            longitude.append(float(message[6].split(',')[4:5][0]))\n",
    "            num_used_satellites.append(int(message[6].split(',')[6]))\n",
    "            altitude.append(float(message[6].split(',')[9:10][0]))\n",
    "\n",
    "    # Create a DataFrame\n",
    "    df = pd.DataFrame({\n",
    "        'PDOP': PDOP,\n",
    "        'HDOP': HDOP,\n",
    "        'VDOP': VDOP,\n",
    "        'latitude': latitude,\n",
    "        'longitude': longitude,\n",
    "        'num_used_satellites': num_used_satellites,\n",
    "        'altitude': altitude\n",
    "    })\n",
    "\n",
    "    return df"
   ],
   "metadata": {
    "collapsed": false,
    "ExecuteTime": {
     "end_time": "2023-12-15T11:50:05.574692Z",
     "start_time": "2023-12-15T11:50:05.567342Z"
    }
   }
  },
  {
   "cell_type": "code",
   "execution_count": 147,
   "outputs": [
    {
     "data": {
      "text/plain": "['Hall H nmea.log',\n 'Stairway (near Hall U) nmea.log',\n 'Hall Z nmea.log',\n 'Hall K nmea.log']"
     },
     "execution_count": 147,
     "metadata": {},
     "output_type": "execute_result"
    }
   ],
   "source": [
    "# load the files within folder /data/fingerprints into a list\n",
    "nmea_path = os.getcwd() + '/data/nmea'\n",
    "nmea_files = os.listdir(nmea_path)\n",
    "nmea_files"
   ],
   "metadata": {
    "collapsed": false,
    "ExecuteTime": {
     "end_time": "2023-12-15T11:50:06.244433Z",
     "start_time": "2023-12-15T11:50:06.239518Z"
    }
   }
  },
  {
   "cell_type": "code",
   "execution_count": 148,
   "outputs": [],
   "source": [
    "# load the nmea files into a list of dataframes\n",
    "nmea_dict = {}\n",
    "\n",
    "for file in nmea_files:\n",
    "    nmea_dict[file] = get_sat_values(nmea_path + '/' + file)\n",
    "    # divide latitude and longitude by 100 to get the correct value\n",
    "    nmea_dict[file]['latitude'] = nmea_dict[file]['latitude'] / 100\n",
    "    nmea_dict[file]['longitude'] = nmea_dict[file]['longitude'] / 100\n",
    "    nmea_dict[file]['ID'] = file"
   ],
   "metadata": {
    "collapsed": false,
    "ExecuteTime": {
     "end_time": "2023-12-15T11:50:06.920019Z",
     "start_time": "2023-12-15T11:50:06.890583Z"
    }
   }
  },
  {
   "cell_type": "code",
   "execution_count": 149,
   "outputs": [
    {
     "data": {
      "text/plain": "     PDOP  HDOP  VDOP   latitude  longitude  num_used_satellites  altitude  \\\n0    11.2  10.5   3.8  52.003689   4.222611                   12       1.1   \n1     7.7   7.0   3.2  52.003696   4.222625                   12       1.0   \n2     7.5   7.0   2.8  52.003697   4.222627                   12       1.0   \n3     7.5   7.0   2.6  52.003697   4.222627                   12       1.1   \n4     7.4   7.0   2.3  52.003697   4.222627                   12       1.0   \n..    ...   ...   ...        ...        ...                  ...       ...   \n166   7.0   7.0   0.5  52.003688   4.222605                   12       1.3   \n167   7.0   7.0   0.5  52.003692   4.222613                   12       1.3   \n168   7.0   7.0   0.5  52.003701   4.222623                   12       1.3   \n169   7.0   7.0   0.5  52.003701   4.222625                   12       1.3   \n170   7.0   7.0   0.5  52.003701   4.222620                   12       1.3   \n\n                  ID  \n0    Hall K nmea.log  \n1    Hall K nmea.log  \n2    Hall K nmea.log  \n3    Hall K nmea.log  \n4    Hall K nmea.log  \n..               ...  \n166  Hall K nmea.log  \n167  Hall K nmea.log  \n168  Hall K nmea.log  \n169  Hall K nmea.log  \n170  Hall K nmea.log  \n\n[171 rows x 8 columns]",
      "text/html": "<div>\n<style scoped>\n    .dataframe tbody tr th:only-of-type {\n        vertical-align: middle;\n    }\n\n    .dataframe tbody tr th {\n        vertical-align: top;\n    }\n\n    .dataframe thead th {\n        text-align: right;\n    }\n</style>\n<table border=\"1\" class=\"dataframe\">\n  <thead>\n    <tr style=\"text-align: right;\">\n      <th></th>\n      <th>PDOP</th>\n      <th>HDOP</th>\n      <th>VDOP</th>\n      <th>latitude</th>\n      <th>longitude</th>\n      <th>num_used_satellites</th>\n      <th>altitude</th>\n      <th>ID</th>\n    </tr>\n  </thead>\n  <tbody>\n    <tr>\n      <th>0</th>\n      <td>11.2</td>\n      <td>10.5</td>\n      <td>3.8</td>\n      <td>52.003689</td>\n      <td>4.222611</td>\n      <td>12</td>\n      <td>1.1</td>\n      <td>Hall K nmea.log</td>\n    </tr>\n    <tr>\n      <th>1</th>\n      <td>7.7</td>\n      <td>7.0</td>\n      <td>3.2</td>\n      <td>52.003696</td>\n      <td>4.222625</td>\n      <td>12</td>\n      <td>1.0</td>\n      <td>Hall K nmea.log</td>\n    </tr>\n    <tr>\n      <th>2</th>\n      <td>7.5</td>\n      <td>7.0</td>\n      <td>2.8</td>\n      <td>52.003697</td>\n      <td>4.222627</td>\n      <td>12</td>\n      <td>1.0</td>\n      <td>Hall K nmea.log</td>\n    </tr>\n    <tr>\n      <th>3</th>\n      <td>7.5</td>\n      <td>7.0</td>\n      <td>2.6</td>\n      <td>52.003697</td>\n      <td>4.222627</td>\n      <td>12</td>\n      <td>1.1</td>\n      <td>Hall K nmea.log</td>\n    </tr>\n    <tr>\n      <th>4</th>\n      <td>7.4</td>\n      <td>7.0</td>\n      <td>2.3</td>\n      <td>52.003697</td>\n      <td>4.222627</td>\n      <td>12</td>\n      <td>1.0</td>\n      <td>Hall K nmea.log</td>\n    </tr>\n    <tr>\n      <th>...</th>\n      <td>...</td>\n      <td>...</td>\n      <td>...</td>\n      <td>...</td>\n      <td>...</td>\n      <td>...</td>\n      <td>...</td>\n      <td>...</td>\n    </tr>\n    <tr>\n      <th>166</th>\n      <td>7.0</td>\n      <td>7.0</td>\n      <td>0.5</td>\n      <td>52.003688</td>\n      <td>4.222605</td>\n      <td>12</td>\n      <td>1.3</td>\n      <td>Hall K nmea.log</td>\n    </tr>\n    <tr>\n      <th>167</th>\n      <td>7.0</td>\n      <td>7.0</td>\n      <td>0.5</td>\n      <td>52.003692</td>\n      <td>4.222613</td>\n      <td>12</td>\n      <td>1.3</td>\n      <td>Hall K nmea.log</td>\n    </tr>\n    <tr>\n      <th>168</th>\n      <td>7.0</td>\n      <td>7.0</td>\n      <td>0.5</td>\n      <td>52.003701</td>\n      <td>4.222623</td>\n      <td>12</td>\n      <td>1.3</td>\n      <td>Hall K nmea.log</td>\n    </tr>\n    <tr>\n      <th>169</th>\n      <td>7.0</td>\n      <td>7.0</td>\n      <td>0.5</td>\n      <td>52.003701</td>\n      <td>4.222625</td>\n      <td>12</td>\n      <td>1.3</td>\n      <td>Hall K nmea.log</td>\n    </tr>\n    <tr>\n      <th>170</th>\n      <td>7.0</td>\n      <td>7.0</td>\n      <td>0.5</td>\n      <td>52.003701</td>\n      <td>4.222620</td>\n      <td>12</td>\n      <td>1.3</td>\n      <td>Hall K nmea.log</td>\n    </tr>\n  </tbody>\n</table>\n<p>171 rows × 8 columns</p>\n</div>"
     },
     "execution_count": 149,
     "metadata": {},
     "output_type": "execute_result"
    }
   ],
   "source": [
    "nmea_dict['Hall K nmea.log']"
   ],
   "metadata": {
    "collapsed": false,
    "ExecuteTime": {
     "end_time": "2023-12-15T11:50:07.660327Z",
     "start_time": "2023-12-15T11:50:07.655387Z"
    }
   }
  },
  {
   "cell_type": "markdown",
   "id": "999ad282",
   "metadata": {},
   "source": [
    "### A. Radio Mapping Phase"
   ]
  },
  {
   "cell_type": "markdown",
   "source": [
    "BK-City floor plan can be found [here.](https://www.tudelft.nl/bk/over-faculteit/het-gebouw/plattegrond/)"
   ],
   "metadata": {
    "collapsed": false
   }
  },
  {
   "cell_type": "markdown",
   "source": [
    "##### A1. Scatterplots of GNSS accuracy\n",
    "Illuminate the estimated GNSS accuracy of this indoor location through a visual representation in\n",
    "a scatterplot. Don't forget to include key metrics like standard deviation, HDOP, and VDOP."
   ],
   "metadata": {
    "collapsed": false
   }
  },
  {
   "cell_type": "code",
   "execution_count": 157,
   "outputs": [],
   "source": [
    "def print_statistics(dict):\n",
    "    # Create table with mean, std of lat, lon, HDOP, VDOP, PDOP for each measurement\n",
    "    statistics_dfs = []\n",
    "    for key, value in dict.items():\n",
    "        # Calculate the mean and std for each dataframe\n",
    "        statistics_df = value.groupby('ID').agg({\n",
    "            'latitude': ['mean', 'std'],\n",
    "            'longitude': ['mean', 'std'],\n",
    "            'HDOP': ['mean', 'std'],\n",
    "            'VDOP': ['mean', 'std'],\n",
    "            'PDOP': ['mean', 'std']\n",
    "        }).reset_index()\n",
    "        # Add the measurement name to the dataframe at first column\n",
    "        statistics_df.insert(0, 'measurement', key)\n",
    "        statistics_dfs.append(statistics_df)\n",
    "\n",
    "    result_df = pd.concat(statistics_dfs, axis=0)\n",
    "    result_df = result_df.drop(columns=['ID'], level=0)\n",
    "\n",
    "    return result_df"
   ],
   "metadata": {
    "collapsed": false,
    "ExecuteTime": {
     "end_time": "2023-12-15T11:59:43.940883Z",
     "start_time": "2023-12-15T11:59:43.931392Z"
    }
   }
  },
  {
   "cell_type": "code",
   "execution_count": 159,
   "outputs": [
    {
     "data": {
      "text/plain": "<Figure size 640x480 with 1 Axes>",
      "image/png": "[encoded data removed]"
     },
     "metadata": {},
     "output_type": "display_data"
    }
   ],
   "source": [
    "# plot latitude and longitude for each of the nmea files in one scatterplot with different colors\n",
    "for key, df in nmea_dict.items():\n",
    "    plt.scatter(df['longitude'], df['latitude'], label=key, s=3)\n",
    "\n",
    "plt.xlim(4.222, 4.2232)\n",
    "plt.ylim(52.003, 52.0042)\n",
    "\n",
    "plt.ticklabel_format(useOffset=False)\n",
    "plt.xlabel('Longitude')\n",
    "plt.ylabel('Latitude')\n",
    "plt.title('Scatterplot of Points from own rooms measured')\n",
    "plt.legend(loc='upper right', bbox_to_anchor=(1.6, 1))\n",
    "\n",
    "# Show the plot\n",
    "plt.show()"
   ],
   "metadata": {
    "collapsed": false,
    "ExecuteTime": {
     "end_time": "2023-12-15T11:59:54.495186Z",
     "start_time": "2023-12-15T11:59:54.345018Z"
    }
   }
  },
  {
   "cell_type": "code",
   "execution_count": 160,
   "outputs": [
    {
     "name": "stdout",
     "output_type": "stream",
     "text": [
      "Statistics table\n"
     ]
    },
    {
     "data": {
      "text/plain": "                       measurement   latitude           longitude            \\\n                                         mean       std      mean       std   \n0                  Hall H nmea.log  52.003425  0.000023  4.222848  0.000044   \n0  Stairway (near Hall U) nmea.log  52.003934  0.000007  4.222715  0.000012   \n0                  Hall Z nmea.log  52.003673  0.000011  4.222423  0.000015   \n0                  Hall K nmea.log  52.003700  0.000004  4.222622  0.000013   \n\n       HDOP                VDOP                PDOP            \n       mean       std      mean       std      mean       std  \n0  1.667746  1.327621  0.475777  0.465847  1.771632  1.368019  \n0  7.193913  0.744723  1.138261  0.664723  7.292174  0.815007  \n0  7.155618  0.860690  1.206180  0.783600  7.280337  0.935735  \n0  7.020468  0.267652  0.815205  0.505386  7.069006  0.332952  ",
      "text/html": "<div>\n<style scoped>\n    .dataframe tbody tr th:only-of-type {\n        vertical-align: middle;\n    }\n\n    .dataframe tbody tr th {\n        vertical-align: top;\n    }\n\n    .dataframe thead tr th {\n        text-align: left;\n    }\n</style>\n<table border=\"1\" class=\"dataframe\">\n  <thead>\n    <tr>\n      <th></th>\n      <th>measurement</th>\n      <th colspan=\"2\" halign=\"left\">latitude</th>\n      <th colspan=\"2\" halign=\"left\">longitude</th>\n      <th colspan=\"2\" halign=\"left\">HDOP</th>\n      <th colspan=\"2\" halign=\"left\">VDOP</th>\n      <th colspan=\"2\" halign=\"left\">PDOP</th>\n    </tr>\n    <tr>\n      <th></th>\n      <th></th>\n      <th>mean</th>\n      <th>std</th>\n      <th>mean</th>\n      <th>std</th>\n      <th>mean</th>\n      <th>std</th>\n      <th>mean</th>\n      <th>std</th>\n      <th>mean</th>\n      <th>std</th>\n    </tr>\n  </thead>\n  <tbody>\n    <tr>\n      <th>0</th>\n      <td>Hall H nmea.log</td>\n      <td>52.003425</td>\n      <td>0.000023</td>\n      <td>4.222848</td>\n      <td>0.000044</td>\n      <td>1.667746</td>\n      <td>1.327621</td>\n      <td>0.475777</td>\n      <td>0.465847</td>\n      <td>1.771632</td>\n      <td>1.368019</td>\n    </tr>\n    <tr>\n      <th>0</th>\n      <td>Stairway (near Hall U) nmea.log</td>\n      <td>52.003934</td>\n      <td>0.000007</td>\n      <td>4.222715</td>\n      <td>0.000012</td>\n      <td>7.193913</td>\n      <td>0.744723</td>\n      <td>1.138261</td>\n      <td>0.664723</td>\n      <td>7.292174</td>\n      <td>0.815007</td>\n    </tr>\n    <tr>\n      <th>0</th>\n      <td>Hall Z nmea.log</td>\n      <td>52.003673</td>\n      <td>0.000011</td>\n      <td>4.222423</td>\n      <td>0.000015</td>\n      <td>7.155618</td>\n      <td>0.860690</td>\n      <td>1.206180</td>\n      <td>0.783600</td>\n      <td>7.280337</td>\n      <td>0.935735</td>\n    </tr>\n    <tr>\n      <th>0</th>\n      <td>Hall K nmea.log</td>\n      <td>52.003700</td>\n      <td>0.000004</td>\n      <td>4.222622</td>\n      <td>0.000013</td>\n      <td>7.020468</td>\n      <td>0.267652</td>\n      <td>0.815205</td>\n      <td>0.505386</td>\n      <td>7.069006</td>\n      <td>0.332952</td>\n    </tr>\n  </tbody>\n</table>\n</div>"
     },
     "execution_count": 160,
     "metadata": {},
     "output_type": "execute_result"
    }
   ],
   "source": [
    "print(\"Statistics table\")\n",
    "print_statistics(nmea_dict)"
   ],
   "metadata": {
    "collapsed": false,
    "ExecuteTime": {
     "end_time": "2023-12-15T11:59:57.742154Z",
     "start_time": "2023-12-15T11:59:57.719555Z"
    }
   }
  },
  {
   "cell_type": "markdown",
   "source": [
    "##### A2. Comparison of Wi-Fi fingerprinting from two proximate (geographically) locations\n",
    "Gauge the degree of similarity between these fingerprints. Alternatively, on a broader scale, assess\n",
    "the 'distance' between the 32 identifiable places in RSS-space. In essence, explore how\n",
    "distinguishable these places are from each other."
   ],
   "metadata": {
    "collapsed": false
   }
  },
  {
   "cell_type": "markdown",
   "source": [
    "We would like to assess the degree of similarity between two rooms: ROOM Z and ROOM V, those rooms are next to each other in the BK building. First we'll calculate the distance between the two rooms by comparing the average longitude and latitude."
   ],
   "metadata": {
    "collapsed": false
   }
  },
  {
   "cell_type": "code",
   "execution_count": 176,
   "outputs": [
    {
     "name": "stdout",
     "output_type": "stream",
     "text": [
      "Distance between the two rooms is:  10.17 kilometers.\n"
     ]
    }
   ],
   "source": [
    "# calculate distance between two points\n",
    "point_Z = (52.003673, 4.222423)\n",
    "point_V = (52.006130, 4.370520)\n",
    "\n",
    "# calculate the distance between the two points\n",
    "from geopy.distance import geodesic\n",
    "distance = geodesic(point_Z, point_V).kilometers\n",
    "print(\"Distance between the two rooms is: \", round(distance, 2), \"kilometers.\")"
   ],
   "metadata": {
    "collapsed": false,
    "ExecuteTime": {
     "end_time": "2023-12-15T12:41:46.807203Z",
     "start_time": "2023-12-15T12:41:46.799990Z"
    }
   }
  },
  {
   "cell_type": "code",
   "execution_count": null,
   "outputs": [],
   "source": [],
   "metadata": {
    "collapsed": false
   }
  }
 ],
 "metadata": {
  "kernelspec": {
   "display_name": "Python 3 (ipykernel)",
   "language": "python",
   "name": "python3"
  },
  "language_info": {
   "codemirror_mode": {
    "name": "ipython",
    "version": 3
   },
   "file_extension": ".py",
   "mimetype": "text/x-python",
   "name": "python",
   "nbconvert_exporter": "python",
   "pygments_lexer": "ipython3",
   "version": "3.7.13"
  }
 },
 "nbformat": 4,
 "nbformat_minor": 5
}
