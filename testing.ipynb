{
 "cells": [
  {
   "cell_type": "code",
   "execution_count": null,
   "metadata": {
    "collapsed": true
   },
   "outputs": [],
   "source": [
    "import pandas as pd\n",
    "from sklearn.model_selection import train_test_split\n",
    "from sklearn.neighbors import KNeighborsClassifier\n",
    "from sklearn.metrics import accuracy_score\n",
    "from sklearn.preprocessing import LabelEncoder\n",
    "\n",
    "# Custom function to parse timestamp or return NaN\n",
    "def parse_timestamp(ts):\n",
    "    try:\n",
    "        return pd.to_datetime(ts)\n",
    "    except ValueError:\n",
    "        return pd.NaT\n",
    "\n",
    "# Assuming df_dict_kkn is your dictionary of DataFrames for training\n",
    "all_data = pd.concat(df_dict_kkn.values())\n",
    "\n",
    "# Preprocessing\n",
    "all_data['timestamp'] = all_data['timestamp'].apply(parse_timestamp)\n",
    "all_data.dropna(subset=['timestamp'], inplace=True)\n",
    "all_data['Signal Strength'].fillna(-100, inplace=True)\n",
    "all_data = all_data.groupby(['room', 'MAC Address']).resample('30S', on='timestamp').mean().reset_index()\n",
    "\n",
    "# Feature Engineering\n",
    "le = LabelEncoder()\n",
    "all_data['MAC Address'] = le.fit_transform(all_data['MAC Address'])\n",
    "features = all_data.pivot_table(index=['timestamp', 'room'], columns='MAC Address', values='Signal Strength').fillna(-100)\n",
    "\n",
    "# Prepare the dataset\n",
    "X = features.values\n",
    "y = features.index.get_level_values('room').values\n",
    "\n",
    "# Train-Test Split\n",
    "X_train, X_test, y_train, y_test = train_test_split(X, y, test_size=0.2, random_state=42)\n",
    "\n",
    "# Initialize and Train KNN Classifier\n",
    "knn = KNeighborsClassifier(n_neighbors=3)\n",
    "knn.fit(X_train, y_train)\n",
    "\n",
    "# Evaluate the Model\n",
    "y_pred = knn.predict(X_test)\n",
    "accuracy = accuracy_score(y_test, y_pred)\n",
    "print(f'Accuracy: {accuracy * 100:.2f}%')"
   ]
  }
 ],
 "metadata": {
  "kernelspec": {
   "display_name": "Python 3",
   "language": "python",
   "name": "python3"
  },
  "language_info": {
   "codemirror_mode": {
    "name": "ipython",
    "version": 2
   },
   "file_extension": ".py",
   "mimetype": "text/x-python",
   "name": "python",
   "nbconvert_exporter": "python",
   "pygments_lexer": "ipython2",
   "version": "2.7.6"
  }
 },
 "nbformat": 4,
 "nbformat_minor": 0
}
